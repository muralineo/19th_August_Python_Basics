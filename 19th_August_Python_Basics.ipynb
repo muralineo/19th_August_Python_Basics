{
 "cells": [
  {
   "cell_type": "markdown",
   "id": "868fbbed-bcd5-43ec-8abf-9c16d62313df",
   "metadata": {},
   "source": [
    "TOPIC: Python Basics Variable"
   ]
  },
  {
   "cell_type": "markdown",
   "id": "ed0d7626-6110-497b-92fc-59aaa1abe569",
   "metadata": {},
   "source": [
    "1. Declare two variables, `x` and `y`, and assign them integer values. Swap the values of these variables without using any temporary variable."
   ]
  },
  {
   "cell_type": "code",
   "execution_count": 20,
   "id": "47f89385-9dc5-474b-a7a7-4dbc028e1f86",
   "metadata": {},
   "outputs": [
    {
     "name": "stdout",
     "output_type": "stream",
     "text": [
      "Value of x before swapping: 20\n",
      "Value of y before swapping: 30\n",
      "Value of x after swapping: 30\n",
      "Value of y after swapping: 20\n"
     ]
    }
   ],
   "source": [
    "x = 20\n",
    "y = 30\n",
    "\n",
    "print('Value of x before swapping:', x)\n",
    "print('Value of y before swapping:', y)\n",
    "\n",
    "x = x + y\n",
    "y = x - y\n",
    "x = x - y\n",
    "\n",
    "print('Value of x after swapping:', x)\n",
    "print('Value of y after swapping:', y)"
   ]
  },
  {
   "cell_type": "markdown",
   "id": "a727f94d-0e22-4a50-bb38-48bafff80b02",
   "metadata": {},
   "source": [
    "2. Create a program that calculates the area of a rectangle. Take the length and width as inputs from the user and store them in variables. Calculate and display the area."
   ]
  },
  {
   "cell_type": "code",
   "execution_count": 3,
   "id": "4bbb4c98-68df-4486-b91a-45eebff2c74d",
   "metadata": {},
   "outputs": [
    {
     "name": "stdin",
     "output_type": "stream",
     "text": [
      "Please enter the length of rectangle:  5\n",
      "Please enter the width of rectangle:  10\n"
     ]
    },
    {
     "name": "stdout",
     "output_type": "stream",
     "text": [
      "The area of the rectangle:  50.0\n"
     ]
    }
   ],
   "source": [
    "length = float(input('Please enter the length of rectangle: '))\n",
    "width = float(input('Please enter the width of rectangle: '))\n",
    "\n",
    "print('The area of the rectangle: ', length * width)"
   ]
  },
  {
   "cell_type": "markdown",
   "id": "d6ccc9dc-47ba-4ae2-be77-38fc3c8544bd",
   "metadata": {},
   "source": [
    "3. Write a Python program that converts temperatures from Celsius to Fahrenheit. Take the temperature in Celsius as input, store it in a variable, convert it to Fahrenheit, and display the result."
   ]
  },
  {
   "cell_type": "code",
   "execution_count": 4,
   "id": "2811f39e-ae76-41cc-b024-e2a354361e25",
   "metadata": {},
   "outputs": [
    {
     "name": "stdin",
     "output_type": "stream",
     "text": [
      "Enter a temperature in Celsius(°C):  25\n"
     ]
    },
    {
     "name": "stdout",
     "output_type": "stream",
     "text": [
      "The Temperature in Fahrenheit:  77.0 °F\n"
     ]
    }
   ],
   "source": [
    "celsius = float(input('Enter a temperature in Celsius(°C): '))\n",
    "fahrenheit = (celsius * 9/5) + 32\n",
    "print('The Temperature in Fahrenheit: ', fahrenheit, '°F')"
   ]
  },
  {
   "cell_type": "markdown",
   "id": "92a73888-3a60-41ad-80ac-4e9c6dacc092",
   "metadata": {},
   "source": [
    "TOPIC: String Based Questions"
   ]
  },
  {
   "cell_type": "markdown",
   "id": "1f5047ff-2569-42fe-ad2d-220dea7920b1",
   "metadata": {},
   "source": [
    "1. Write a Python program that takes a string as input and prints the length of the string."
   ]
  },
  {
   "cell_type": "code",
   "execution_count": 5,
   "id": "561fd7cb-0f6a-4fe1-905e-9fdaadf9495d",
   "metadata": {},
   "outputs": [
    {
     "name": "stdin",
     "output_type": "stream",
     "text": [
      "Enter any string:  Data Science\n"
     ]
    },
    {
     "name": "stdout",
     "output_type": "stream",
     "text": [
      "Length of the string:  12\n"
     ]
    }
   ],
   "source": [
    "string = input('Enter any string: ')\n",
    "print('Length of the string: ', len(string))"
   ]
  },
  {
   "cell_type": "markdown",
   "id": "957e41ff-f81e-41ad-b5be-24ec237cd484",
   "metadata": {},
   "source": [
    "2. Create a program that takes a sentence from the user and counts the number of vowels (a, e, i, o, u) in the string."
   ]
  },
  {
   "cell_type": "code",
   "execution_count": 26,
   "id": "e7a8ca1c-1d25-44a0-8b5b-13892fadd4b1",
   "metadata": {},
   "outputs": [
    {
     "name": "stdin",
     "output_type": "stream",
     "text": [
      "Enter any sentence:  Genarative AI\n"
     ]
    },
    {
     "name": "stdout",
     "output_type": "stream",
     "text": [
      "The count of the vowels present in the sentence: 7\n"
     ]
    }
   ],
   "source": [
    "sentence = input('Enter any sentence: ')\n",
    "vowels_count = 0\n",
    "\n",
    "for i in sentence.lower():\n",
    "    if i in 'aeiou':\n",
    "        vowels_count = vowels_count + 1\n",
    "\n",
    "print('The count of the vowels present in the sentence:', vowels_count)    "
   ]
  },
  {
   "cell_type": "markdown",
   "id": "f0454b92-ebc1-4e0f-b07d-0c72572b60cb",
   "metadata": {},
   "source": [
    "3. Given a string, reverse the order of characters using string slicing and print the reversed string."
   ]
  },
  {
   "cell_type": "code",
   "execution_count": 13,
   "id": "705e7d37-0563-41ae-a824-0efd84690a0e",
   "metadata": {},
   "outputs": [
    {
     "name": "stdin",
     "output_type": "stream",
     "text": [
      "Enter a string to reverse it:  Large Language Models\n"
     ]
    },
    {
     "name": "stdout",
     "output_type": "stream",
     "text": [
      "The reversed string: sledoM egaugnaL egraL\n"
     ]
    }
   ],
   "source": [
    "string_input = input('Enter a string to reverse it: ')\n",
    "reverse_string = string_input[::-1]\n",
    "print('The reversed string:', reverse_string)"
   ]
  },
  {
   "cell_type": "markdown",
   "id": "c431772d-b640-4e3c-b373-625c5cb0900d",
   "metadata": {},
   "source": [
    "4. Write a program that takes a string as input and checks if it is a palindrome (reads the same forwards and backwards)."
   ]
  },
  {
   "cell_type": "code",
   "execution_count": 23,
   "id": "bcc76d23-1090-40b6-af87-89c5dc5e0b7e",
   "metadata": {},
   "outputs": [
    {
     "name": "stdin",
     "output_type": "stream",
     "text": [
      "Enter a string:  liril\n"
     ]
    },
    {
     "name": "stdout",
     "output_type": "stream",
     "text": [
      "The given string is a palindrome\n"
     ]
    }
   ],
   "source": [
    "string_value = input('Enter a string: ')\n",
    "reverse_str = string_value[::-1]\n",
    "\n",
    "if string_value == reverse_str:\n",
    "    print('The given string is a palindrome')\n",
    "else:\n",
    "    print('The given string is not a palindrome')"
   ]
  },
  {
   "cell_type": "markdown",
   "id": "ed43af31-139a-4423-a47d-dd0a503bc6b0",
   "metadata": {},
   "source": [
    "5. Create a program that takes a string as input and removes all the spaces from it. Print the modified string without spaces."
   ]
  },
  {
   "cell_type": "code",
   "execution_count": 24,
   "id": "c7bcde7a-6b52-46f7-b212-ebe22a729b7c",
   "metadata": {},
   "outputs": [
    {
     "name": "stdin",
     "output_type": "stream",
     "text": [
      "Enter a string to remove spaces:  Large Language Models\n"
     ]
    },
    {
     "name": "stdout",
     "output_type": "stream",
     "text": [
      "LargeLanguageModels\n"
     ]
    }
   ],
   "source": [
    "string_input = input(\"Enter a string to remove spaces: \")\n",
    "string_without_spaces = string_input.replace(\" \", \"\")\n",
    "print(string_without_spaces)                     "
   ]
  }
 ],
 "metadata": {
  "kernelspec": {
   "display_name": "Python 3 (ipykernel)",
   "language": "python",
   "name": "python3"
  },
  "language_info": {
   "codemirror_mode": {
    "name": "ipython",
    "version": 3
   },
   "file_extension": ".py",
   "mimetype": "text/x-python",
   "name": "python",
   "nbconvert_exporter": "python",
   "pygments_lexer": "ipython3",
   "version": "3.10.8"
  }
 },
 "nbformat": 4,
 "nbformat_minor": 5
}
